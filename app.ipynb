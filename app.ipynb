{
  "nbformat": 4,
  "nbformat_minor": 0,
  "metadata": {
    "colab": {
      "provenance": [],
      "authorship_tag": "ABX9TyPTlKdh5oiCrt++Fd4sLi7s",
      "include_colab_link": true
    },
    "kernelspec": {
      "name": "python3",
      "display_name": "Python 3"
    },
    "language_info": {
      "name": "python"
    }
  },
  "cells": [
    {
      "cell_type": "markdown",
      "metadata": {
        "id": "view-in-github",
        "colab_type": "text"
      },
      "source": [
        "<a href=\"https://colab.research.google.com/github/Yunsoonsang/MySchoolProject/blob/master/app.ipynb\" target=\"_parent\"><img src=\"https://colab.research.google.com/assets/colab-badge.svg\" alt=\"Open In Colab\"/></a>"
      ]
    },
    {
      "cell_type": "code",
      "execution_count": null,
      "metadata": {
        "id": "BQWt_jIOzoSC"
      },
      "outputs": [],
      "source": [
        "from flask import Flask, render_template, Response\n",
        "import cv2\n",
        "\n",
        "app = Flask(__name__, static_folder=\"static\", static_url_path=\"/static\")\n",
        "\n",
        "cap = cv2.VideoCapture(0)\n",
        "out = None # cv2.VideoWriter object\n",
        "\n",
        "def generate_frames():\n",
        "  while True:\n",
        "    # frame read\n",
        "    success, frame = cap.read()\n",
        "    if not success:\n",
        "      break\n",
        "\n",
        "    # save video data\n",
        "    if out is not None:\n",
        "      out.write(frame)\n",
        "\n",
        "    # frame encoding byte\n",
        "    ret, buffer = cv2.imencode('.jpg', frame)\n",
        "    frame = buffer.tobytes()\n",
        "\n",
        "    # transport frame to react\n",
        "    yield (b'--frame\\r\\n'\n",
        "                b'Content-Type: image/jpeg\\r\\n\\r\\n' + frame + b'\\r\\n')\n",
        "\n",
        "@app.route('/')\n",
        "def index():\n",
        "  return render_template(\"index.html\")\n",
        "\n",
        "@app.route('/video_feed')\n",
        "def video_feed():\n",
        "  # transport video stream to react\n",
        "  return Response(generate_frames(), mimetype='multipart/x-mixed-replace; boundary=frame')\n",
        "\n",
        "@app.route('/start_capture')\n",
        "def start_capture():\n",
        "  global out\n",
        "  out = cv2.VideoWriter('output.avi', cv2.VideoWriter_fourcc(*'XVID'))\n",
        "  return \"Capture started successfully\"\n",
        "\n",
        "@app.route('/stop_capture', methods=['POST'])\n",
        "def stop_capture():\n",
        "  global out\n",
        "  if out is not None:\n",
        "    out.release()\n",
        "    out = None\n",
        "    return \"Capture stopped successfully\"\n",
        "  else:\n",
        "    return \"No capture in progress\"\n",
        "\n",
        "@app.route('/upload', methods=['POST'])\n",
        "def upload():\n",
        "    # Get image data from react-webcam\n",
        "    image = request.get_json().get('image')\n",
        "\n",
        "    # AI code upload\n",
        "    result = process_ai(image)\n",
        "\n",
        "    return \"Image received successfully\"\n",
        "\n",
        "def process_ai(image):\n",
        "    # insert ai code\n",
        "    # ex: result = yolov8_model.process_image(image)\n",
        "    return \"AI processing result\"\n",
        "\n",
        "if __name__ == \"__main__\":\n",
        "  app.run(host=\"0.0.0.0\", port=5000, debug=True)"
      ]
    },
    {
      "cell_type": "code",
      "source": [],
      "metadata": {
        "id": "oU3CKEtMzvs9"
      },
      "execution_count": null,
      "outputs": []
    }
  ]
}