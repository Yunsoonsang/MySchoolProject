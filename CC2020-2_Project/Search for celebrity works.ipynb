{
 "cells": [
  {
   "cell_type": "code",
   "execution_count": 1,
   "metadata": {},
   "outputs": [],
   "source": [
    "import boto3\n",
    "import json\n",
    "import time\n",
    "\n",
    "# 입력받은 버킷의 파일 조회\n",
    "def bucket_element(name):\n",
    "    my_bucket = boto3.resource('s3').Bucket(name)\n",
    "    result = []\n",
    "    \n",
    "    for element in my_bucket.objects.all():\n",
    "        result.append(element.key)\n",
    "    \n",
    "    return result\n",
    "\n",
    "# 로컬에 있는 파일을 rekognition celebrity 분석\n",
    "def recognition_celebrities(photo):\n",
    "    client = boto3.client('rekognition')\n",
    "    name = ''\n",
    "    \n",
    "    with open(photo, 'rb') as image:\n",
    "        response = client.recognize_celebrities(Image={'Bytes': image.read()})\n",
    "   \n",
    "    for celebrity in response['CelebrityFaces']:\n",
    "        name = celebrity['Name']\n",
    "    \n",
    "    return name \n",
    "    \n",
    "# 프로젝트 - 영상내에 존재하는 유명인사 찾기\n",
    "def recognition_celebrities_video(bucket, key):\n",
    "    client=boto3.client('rekognition')\n",
    "    response = client.start_celebrity_recognition(\n",
    "        Video={'S3Object': {'Bucket': bucket, \n",
    "                            'Name': key}})\n",
    "    startJobId=response['JobId']\n",
    "    \n",
    "    print('Start JobId: ' + startJobId)\n",
    "    print()\n",
    "    \n",
    "    return startJobId\n",
    "    \n",
    "# 위 함수를 실행하고 반복적으로 실행. 넘겨받은 ID를 가지고 계속 get하다보면 어느 순간\n",
    "# 'IN_PROGRESS'가 'SUCCEEDED'로 바뀜\n",
    "def recognition_celebrities_video_get(Id):\n",
    "    client = boto3.client('rekognition')\n",
    "    response = client.get_celebrity_recognition(JobId=Id)\n",
    "    \n",
    "    return response\n",
    "\n",
    "# 영상 분석 결과에서 유명인사 리스트를 가져온다.\n",
    "def listing_celebrity(response, list_celebrity):\n",
    "    for celebrityRecognition in response['Celebrities']:\n",
    "        cel_name = str(celebrityRecognition['Celebrity']['Name'])\n",
    "        if not cel_name in list_celebrity:\n",
    "            list_celebrity.append(cel_name)\n",
    "\n",
    "# 평점이 가장 높은 작품을 사용자에게 추천함\n",
    "def maximum_index(grade_list):\n",
    "    m = 0\n",
    "    index = 0\n",
    "    result = 0\n",
    "    \n",
    "    for grade in grade_list:\n",
    "        if m < grade:\n",
    "            m = grade\n",
    "            result = index\n",
    "        index = index + 1\n",
    "    \n",
    "    return result"
   ]
  },
  {
   "cell_type": "code",
   "execution_count": 2,
   "metadata": {
    "scrolled": false
   },
   "outputs": [
    {
     "name": "stdout",
     "output_type": "stream",
     "text": [
      "filename :  1박2일-103회.mp4\n",
      "Start JobId: 66aff4559cb2ccd61405fe4ec54031888932c0de14927845fdec857530ce8789\n",
      "\n",
      "Analyzing Video...(Id : 66aff4559cb2ccd61405fe4ec54031888932c0de14927845fdec857530ce8789)\n",
      "Analysis complete!!!(Id : 66aff4559cb2ccd61405fe4ec54031888932c0de14927845fdec857530ce8789)\n",
      "Save Celebrities...\n",
      "\n",
      "filename :  1박2일-151회.mp4\n",
      "Start JobId: 41ff5069b2d374f30b64dfd3f4122b5b4d4f4479003203f05ef9c7d76ab48501\n",
      "\n",
      "Analyzing Video...(Id : 41ff5069b2d374f30b64dfd3f4122b5b4d4f4479003203f05ef9c7d76ab48501)\n",
      "Analysis complete!!!(Id : 41ff5069b2d374f30b64dfd3f4122b5b4d4f4479003203f05ef9c7d76ab48501)\n",
      "Save Celebrities...\n",
      "\n",
      "filename :  1박2일-30회.mp4\n",
      "Start JobId: f1f3967a4eb369106431cee9333749b56229bac02cff7eb3e221deade209ecc3\n",
      "\n",
      "Analyzing Video...(Id : f1f3967a4eb369106431cee9333749b56229bac02cff7eb3e221deade209ecc3)\n",
      "Analysis complete!!!(Id : f1f3967a4eb369106431cee9333749b56229bac02cff7eb3e221deade209ecc3)\n",
      "Save Celebrities...\n",
      "\n",
      "filename :  FSET-426.mp4\n",
      "Start JobId: 7c51dc8de57f87635bddfab0e49c81eb0745c7fbb383a13d194eb20e5b34c2a3\n",
      "\n",
      "Analyzing Video...(Id : 7c51dc8de57f87635bddfab0e49c81eb0745c7fbb383a13d194eb20e5b34c2a3)\n",
      "Analysis complete!!!(Id : 7c51dc8de57f87635bddfab0e49c81eb0745c7fbb383a13d194eb20e5b34c2a3)\n",
      "Save Celebrities...\n",
      "\n",
      "filename :  Sherlock Holmes.mp4\n",
      "Start JobId: f2ea305ba628f9e2824cc819034fab657d639504d6f6a04c2968f1d909fe125b\n",
      "\n",
      "Analyzing Video...(Id : f2ea305ba628f9e2824cc819034fab657d639504d6f6a04c2968f1d909fe125b)\n",
      "Analysis complete!!!(Id : f2ea305ba628f9e2824cc819034fab657d639504d6f6a04c2968f1d909fe125b)\n",
      "Save Celebrities...\n",
      "\n",
      "filename :  The Story of Doctor Dolittle.mp4\n",
      "Start JobId: 5b9b469c7f77d7eed89408bc62f7fc1716af590b6e0598c8246afba46b002bb3\n",
      "\n",
      "Analyzing Video...(Id : 5b9b469c7f77d7eed89408bc62f7fc1716af590b6e0598c8246afba46b002bb3)\n",
      "Analysis complete!!!(Id : 5b9b469c7f77d7eed89408bc62f7fc1716af590b6e0598c8246afba46b002bb3)\n",
      "Save Celebrities...\n",
      "\n",
      "filename :  Transporter 2.mp4\n",
      "Start JobId: 248ff6bb755fcd141a42387f106fc40044be157ce9ecab5d9c2505c7585e5d01\n",
      "\n",
      "Analyzing Video...(Id : 248ff6bb755fcd141a42387f106fc40044be157ce9ecab5d9c2505c7585e5d01)\n",
      "Analysis complete!!!(Id : 248ff6bb755fcd141a42387f106fc40044be157ce9ecab5d9c2505c7585e5d01)\n",
      "Save Celebrities...\n",
      "\n",
      "filename :  런닝맨 20회.mp4\n",
      "Start JobId: 8ddad0fe9ed5ceab78fc6279550c6475ae9b4e44c65c79aee06ac23318940647\n",
      "\n",
      "Analyzing Video...(Id : 8ddad0fe9ed5ceab78fc6279550c6475ae9b4e44c65c79aee06ac23318940647)\n",
      "Analysis complete!!!(Id : 8ddad0fe9ed5ceab78fc6279550c6475ae9b4e44c65c79aee06ac23318940647)\n",
      "Save Celebrities...\n",
      "\n",
      "filename :  런닝맨 512화.mp4\n",
      "Start JobId: dcc72a19ca06e370a1f36ccff0d1be5794e10b5840cd1e42d5fd009131a7ac99\n",
      "\n",
      "Analyzing Video...(Id : dcc72a19ca06e370a1f36ccff0d1be5794e10b5840cd1e42d5fd009131a7ac99)\n",
      "Analysis complete!!!(Id : dcc72a19ca06e370a1f36ccff0d1be5794e10b5840cd1e42d5fd009131a7ac99)\n",
      "Save Celebrities...\n",
      "\n",
      "filename :  범죄도시.mp4\n",
      "Start JobId: 070e6f59d9dc5cebb019eb803455f9ca3cc4604438198f7b5783ab13a8755047\n",
      "\n",
      "Analyzing Video...(Id : 070e6f59d9dc5cebb019eb803455f9ca3cc4604438198f7b5783ab13a8755047)\n",
      "Analysis complete!!!(Id : 070e6f59d9dc5cebb019eb803455f9ca3cc4604438198f7b5783ab13a8755047)\n",
      "Save Celebrities...\n",
      "\n",
      "filename :  분노의 질주_ 홉스&쇼.mp4\n",
      "Start JobId: c0882f6e507659380fa37dc06ff67c92b74ee4fad52ed3ad36726235c921fa0a\n",
      "\n",
      "Analyzing Video...(Id : c0882f6e507659380fa37dc06ff67c92b74ee4fad52ed3ad36726235c921fa0a)\n",
      "Analysis complete!!!(Id : c0882f6e507659380fa37dc06ff67c92b74ee4fad52ed3ad36726235c921fa0a)\n",
      "Save Celebrities...\n",
      "\n",
      "filename :  어벤져스 엔드게임.mp4\n",
      "Start JobId: a7214794efa59ff3822c5f482eccfa71cdffc9ee6a94110263e2905663ba36b7\n",
      "\n",
      "Analyzing Video...(Id : a7214794efa59ff3822c5f482eccfa71cdffc9ee6a94110263e2905663ba36b7)\n",
      "Analysis complete!!!(Id : a7214794efa59ff3822c5f482eccfa71cdffc9ee6a94110263e2905663ba36b7)\n",
      "Save Celebrities...\n",
      "\n",
      "filename :  엽문1.mp4\n",
      "Start JobId: 210b7ce16ea68bed6309c57ee055ba75052d795f6ccdf9bdcb999e62d2ea5c0c\n",
      "\n",
      "Analyzing Video...(Id : 210b7ce16ea68bed6309c57ee055ba75052d795f6ccdf9bdcb999e62d2ea5c0c)\n",
      "Analysis complete!!!(Id : 210b7ce16ea68bed6309c57ee055ba75052d795f6ccdf9bdcb999e62d2ea5c0c)\n",
      "Save Celebrities...\n",
      "\n",
      "filename :  엽문3.mp4\n",
      "Start JobId: a3b4e47f4058cc4a697b51c69a16a0c88eaa136efdf904f6be74dc39bf3ebadb\n",
      "\n",
      "Analyzing Video...(Id : a3b4e47f4058cc4a697b51c69a16a0c88eaa136efdf904f6be74dc39bf3ebadb)\n",
      "Analysis complete!!!(Id : a3b4e47f4058cc4a697b51c69a16a0c88eaa136efdf904f6be74dc39bf3ebadb)\n",
      "Save Celebrities...\n",
      "\n",
      "filename :  원더퓰 고스트.mp4\n",
      "Start JobId: a0bb62e7f3cfb77cb2ba1b2982fbeae2fcbba0eaf76b88d4ae29f3e62c51275d\n",
      "\n",
      "Analyzing Video...(Id : a0bb62e7f3cfb77cb2ba1b2982fbeae2fcbba0eaf76b88d4ae29f3e62c51275d)\n",
      "Analysis complete!!!(Id : a0bb62e7f3cfb77cb2ba1b2982fbeae2fcbba0eaf76b88d4ae29f3e62c51275d)\n",
      "Save Celebrities...\n",
      "\n",
      "filename :  챔피온.mp4\n",
      "Start JobId: 170694f5d4eaba367b0e76c0bdf009872d89b0b091d81e95b867b1f63c507b74\n",
      "\n",
      "Analyzing Video...(Id : 170694f5d4eaba367b0e76c0bdf009872d89b0b091d81e95b867b1f63c507b74)\n",
      "Analysis complete!!!(Id : 170694f5d4eaba367b0e76c0bdf009872d89b0b091d81e95b867b1f63c507b74)\n",
      "Save Celebrities...\n",
      "\n",
      "filename :  해피투게더 613화.mp4\n",
      "Start JobId: cb90c2db071568f5a0f22122546f0251d11fc33b172a49dfa56679a6fe20188b\n",
      "\n",
      "Analyzing Video...(Id : cb90c2db071568f5a0f22122546f0251d11fc33b172a49dfa56679a6fe20188b)\n",
      "Analysis complete!!!(Id : cb90c2db071568f5a0f22122546f0251d11fc33b172a49dfa56679a6fe20188b)\n",
      "Save Celebrities...\n",
      "\n"
     ]
    }
   ],
   "source": [
    "# S3 bucket에 있는 동영상을 분석하여 결과를 저장\n",
    "\n",
    "bucket_name = 'netflix-video-storage' #aws s3 버켓 이름\n",
    "bucket_files = [] # 버켓 내 있는 영상 파일명\n",
    "list_celebrity = [] # 버켓 내 있는 모든 영상 분석 결과\n",
    "\n",
    "bucket_files = bucket_element(bucket_name)\n",
    "length = len(bucket_files)\n",
    "for i in bucket_files:\n",
    "    list_celebrity.append(list())\n",
    "    \n",
    "i = 0\n",
    "for file in bucket_files:\n",
    "    print(\"filename : \", file)\n",
    "    Id = recognition_celebrities_video(bucket_name, file)\n",
    "    response = recognition_celebrities_video_get(Id)\n",
    "        \n",
    "    print(\"Analyzing Video...(Id : {})\".format(Id))\n",
    "    while response['JobStatus'] != 'SUCCEEDED':\n",
    "        time.sleep(10)\n",
    "        response = recognition_celebrities_video_get(Id)\n",
    "        \n",
    "    print(\"Analysis complete!!!(Id : {})\".format(Id))\n",
    "    print(\"Save Celebrities...\")\n",
    "    listing_celebrity(response, list_celebrity[i])\n",
    "    i = i + 1\n",
    "    print()"
   ]
  },
  {
   "cell_type": "code",
   "execution_count": 3,
   "metadata": {},
   "outputs": [],
   "source": [
    "# main함수\n",
    "def main(image):\n",
    "    user_input = image #내가 찾고 싶은 유명인사\n",
    "    celebrity = ''\n",
    "    index_list = [] # 유명인사가 출연한 작품의 index리스트 -> bucket_files의 리스트\n",
    "    celebrity_pro = [] # 유명인사가 출연한 작품을 저장할 리스트\n",
    "    grade_list = [] # 출연작들의 평점을 저장할 리스트\n",
    "    \n",
    "    celebrity = recognition_celebrities(user_input)\n",
    "    print(\"user input result = \", celebrity)\n",
    "    \n",
    "    i = 0\n",
    "    for celebrities in list_celebrity:\n",
    "        if celebrity in celebrities:\n",
    "            index_list.append(i)\n",
    "        i = i + 1\n",
    "        \n",
    "    for index in index_list:\n",
    "        file = bucket_files[index]\n",
    "        file = (file.split('.'))[0]\n",
    "        celebrity_pro.append(file)\n",
    "    \n",
    "    \n",
    "    f = open('data.txt', 'r', encoding='utf-8')\n",
    "    i = 0\n",
    "    while True:\n",
    "        line = f.readline().strip('\\n')\n",
    "        if not line: \n",
    "            break\n",
    "        \n",
    "        if i == len(celebrity_pro):\n",
    "            break\n",
    "        \n",
    "        if line != celebrity_pro[i]:\n",
    "            line = f.readline().strip('\\n')\n",
    "            continue\n",
    "        \n",
    "        grade = f.readline().strip('\\n')\n",
    "        grade_list.append(float(grade))\n",
    "        i = i + 1\n",
    "                      \n",
    "    f.close()\n",
    "    \n",
    "    i = 0\n",
    "    index = maximum_index(grade_list)\n",
    "    print(\"Appeared Program List of {}\".format(celebrity))\n",
    "    for pro in celebrity_pro:\n",
    "        print(\"{}. {}\".format(i+1, pro))\n",
    "        i = i + 1\n",
    "        \n",
    "    print()\n",
    "    print(\"recommendation : {}\".format(celebrity_pro[index]))"
   ]
  },
  {
   "cell_type": "code",
   "execution_count": 5,
   "metadata": {},
   "outputs": [
    {
     "name": "stdout",
     "output_type": "stream",
     "text": [
      "user input result =  Robert Downey Jr.\n",
      "Appeared Program List of Robert Downey Jr.\n",
      "1. Sherlock Holmes\n",
      "2. The Story of Doctor Dolittle\n",
      "\n",
      "recommendation : Sherlock Holmes\n"
     ]
    }
   ],
   "source": [
    "main('Robert Downey Jr.jpg')"
   ]
  },
  {
   "cell_type": "code",
   "execution_count": 6,
   "metadata": {},
   "outputs": [
    {
     "name": "stdout",
     "output_type": "stream",
     "text": [
      "user input result =  Donnie Yen\n",
      "Appeared Program List of Donnie Yen\n",
      "1. 엽문1\n",
      "2. 엽문3\n",
      "\n",
      "recommendation : 엽문1\n"
     ]
    }
   ],
   "source": [
    "main('Donnie Yen.jpg')"
   ]
  },
  {
   "cell_type": "code",
   "execution_count": 7,
   "metadata": {},
   "outputs": [
    {
     "name": "stdout",
     "output_type": "stream",
     "text": [
      "user input result =  Dwayne Johnson\n",
      "Appeared Program List of Dwayne Johnson\n",
      "1. 분노의 질주_ 홉스&쇼\n",
      "\n",
      "recommendation : 분노의 질주_ 홉스&쇼\n"
     ]
    }
   ],
   "source": [
    "main('Dwayne Johnson.jpg')"
   ]
  },
  {
   "cell_type": "code",
   "execution_count": 8,
   "metadata": {},
   "outputs": [
    {
     "name": "stdout",
     "output_type": "stream",
     "text": [
      "user input result =  Jason Statham\n",
      "Appeared Program List of Jason Statham\n",
      "1. Transporter 2\n",
      "2. 분노의 질주_ 홉스&쇼\n",
      "\n",
      "recommendation : 분노의 질주_ 홉스&쇼\n"
     ]
    }
   ],
   "source": [
    "main('Jason Statham.jpg')"
   ]
  },
  {
   "cell_type": "code",
   "execution_count": 9,
   "metadata": {},
   "outputs": [
    {
     "name": "stdout",
     "output_type": "stream",
     "text": [
      "user input result =  Kang Ho-dong\n",
      "Appeared Program List of Kang Ho-dong\n",
      "1. 1박2일-103회\n",
      "2. 1박2일-151회\n",
      "3. 1박2일-30회\n",
      "4. 런닝맨 20회\n",
      "\n",
      "recommendation : 1박2일-151회\n"
     ]
    }
   ],
   "source": [
    "# 런닝맨 20회가 잡힌 이유 -> 영상 중간에 X맨 영상이 나오고\n",
    "# 거기에 강호동의 얼굴이 나오기 때문으로 보인다...\n",
    "main('Kang Ho-dong.png')"
   ]
  },
  {
   "cell_type": "code",
   "execution_count": 10,
   "metadata": {},
   "outputs": [
    {
     "name": "stdout",
     "output_type": "stream",
     "text": [
      "user input result =  Lee Seung-gi\n",
      "Appeared Program List of Lee Seung-gi\n",
      "1. 1박2일-103회\n",
      "2. 1박2일-151회\n",
      "3. 1박2일-30회\n",
      "\n",
      "recommendation : 1박2일-151회\n"
     ]
    }
   ],
   "source": [
    "main('Lee Seung-gi.png')"
   ]
  },
  {
   "cell_type": "code",
   "execution_count": 11,
   "metadata": {},
   "outputs": [
    {
     "name": "stdout",
     "output_type": "stream",
     "text": [
      "user input result =  Lee Soo-geun\n",
      "Appeared Program List of Lee Soo-geun\n",
      "1. 1박2일-103회\n",
      "2. 1박2일-151회\n",
      "3. 1박2일-30회\n",
      "\n",
      "recommendation : 1박2일-151회\n"
     ]
    }
   ],
   "source": [
    "main('Lee Soo-geun.jpg')"
   ]
  },
  {
   "cell_type": "code",
   "execution_count": 12,
   "metadata": {},
   "outputs": [
    {
     "name": "stdout",
     "output_type": "stream",
     "text": [
      "user input result =  Ma Dong-Seok\n",
      "Appeared Program List of Ma Dong-Seok\n",
      "1. 범죄도시\n",
      "2. 원더퓰 고스트\n",
      "3. 챔피온\n",
      "\n",
      "recommendation : 범죄도시\n"
     ]
    }
   ],
   "source": [
    "main('Ma Dong-Seok.jpg')"
   ]
  },
  {
   "cell_type": "code",
   "execution_count": 13,
   "metadata": {},
   "outputs": [
    {
     "name": "stdout",
     "output_type": "stream",
     "text": [
      "user input result =  Yoo Jae Suk\n",
      "Appeared Program List of Yoo Jae Suk\n",
      "1. 런닝맨 20회\n",
      "2. 런닝맨 512화\n",
      "3. 해피투게더 613화\n",
      "\n",
      "recommendation : 런닝맨 512화\n"
     ]
    }
   ],
   "source": [
    "main('Yoo Jae Suk.jpg')"
   ]
  },
  {
   "cell_type": "code",
   "execution_count": 14,
   "metadata": {},
   "outputs": [
    {
     "name": "stdout",
     "output_type": "stream",
     "text": [
      "user input result =  Rina Suzuki\n",
      "Appeared Program List of Rina Suzuki\n",
      "\n"
     ]
    },
    {
     "ename": "IndexError",
     "evalue": "list index out of range",
     "output_type": "error",
     "traceback": [
      "\u001b[1;31m---------------------------------------------------------------------------\u001b[0m",
      "\u001b[1;31mIndexError\u001b[0m                                Traceback (most recent call last)",
      "\u001b[1;32m<ipython-input-14-4e5b5e9c9655>\u001b[0m in \u001b[0;36m<module>\u001b[1;34m\u001b[0m\n\u001b[0;32m      2\u001b[0m \u001b[1;31m# 당연히 영상 분석의 결과에도 잡히지 않는다.\u001b[0m\u001b[1;33m\u001b[0m\u001b[1;33m\u001b[0m\u001b[1;33m\u001b[0m\u001b[0m\n\u001b[0;32m      3\u001b[0m \u001b[1;31m# AV배우의 얼굴을 인식하는 인식기를 따로 구현할 필요가 있다...\u001b[0m\u001b[1;33m\u001b[0m\u001b[1;33m\u001b[0m\u001b[1;33m\u001b[0m\u001b[0m\n\u001b[1;32m----> 4\u001b[1;33m \u001b[0mmain\u001b[0m\u001b[1;33m(\u001b[0m\u001b[1;34m'uehara ai.jpg'\u001b[0m\u001b[1;33m)\u001b[0m\u001b[1;33m\u001b[0m\u001b[1;33m\u001b[0m\u001b[0m\n\u001b[0m",
      "\u001b[1;32m<ipython-input-3-fe63c76a48fd>\u001b[0m in \u001b[0;36mmain\u001b[1;34m(image)\u001b[0m\n\u001b[0;32m     50\u001b[0m \u001b[1;33m\u001b[0m\u001b[0m\n\u001b[0;32m     51\u001b[0m     \u001b[0mprint\u001b[0m\u001b[1;33m(\u001b[0m\u001b[1;33m)\u001b[0m\u001b[1;33m\u001b[0m\u001b[1;33m\u001b[0m\u001b[0m\n\u001b[1;32m---> 52\u001b[1;33m     \u001b[0mprint\u001b[0m\u001b[1;33m(\u001b[0m\u001b[1;34m\"recommendation : {}\"\u001b[0m\u001b[1;33m.\u001b[0m\u001b[0mformat\u001b[0m\u001b[1;33m(\u001b[0m\u001b[0mcelebrity_pro\u001b[0m\u001b[1;33m[\u001b[0m\u001b[0mindex\u001b[0m\u001b[1;33m]\u001b[0m\u001b[1;33m)\u001b[0m\u001b[1;33m)\u001b[0m\u001b[1;33m\u001b[0m\u001b[1;33m\u001b[0m\u001b[0m\n\u001b[0m",
      "\u001b[1;31mIndexError\u001b[0m: list index out of range"
     ]
    }
   ],
   "source": [
    "# AV배우는 유명인사로 잡히지 않는다.\n",
    "# 당연히 영상 분석의 결과에도 잡히지 않는다.\n",
    "# AV배우의 얼굴을 인식하는 인식기를 따로 구현할 필요가 있다...\n",
    "main('uehara ai.jpg')"
   ]
  }
 ],
 "metadata": {
  "kernelspec": {
   "display_name": "Python 3",
   "language": "python",
   "name": "python3"
  },
  "language_info": {
   "codemirror_mode": {
    "name": "ipython",
    "version": 3
   },
   "file_extension": ".py",
   "mimetype": "text/x-python",
   "name": "python",
   "nbconvert_exporter": "python",
   "pygments_lexer": "ipython3",
   "version": "3.8.3"
  }
 },
 "nbformat": 4,
 "nbformat_minor": 4
}
